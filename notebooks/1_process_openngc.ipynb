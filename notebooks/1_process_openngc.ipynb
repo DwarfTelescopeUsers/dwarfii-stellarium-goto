{
 "cells": [
  {
   "cell_type": "code",
   "execution_count": 1,
   "id": "a25b72dc-3c3e-4f75-bbe2-4cfd58bd561c",
   "metadata": {},
   "outputs": [],
   "source": [
    "import sys\n",
    "import os \n",
    "from pathlib import Path\n",
    "import pandas as pd\n",
    "import json\n",
    "\n",
    "project_path = Path(os.path.dirname(os.path.realpath(\"__file__\"))).parent\n",
    "\n",
    "from scripts.utils import log_df"
   ]
  },
  {
   "cell_type": "code",
   "execution_count": 2,
   "id": "7b911e7d-4f52-459b-9e56-e5856b46af34",
   "metadata": {},
   "outputs": [],
   "source": [
    "orginal_openngc_path = project_path / 'raw_data' / 'OpenNGC' / 'database_files' / 'NGC.csv'\n",
    "orginal_openngc_addendum_path = project_path / 'raw_data' / 'OpenNGC' / 'database_files' / 'addendum.csv'\n",
    "\n",
    "openngc_path = project_path / 'raw_data' / 'OpenNGC.csv'"
   ]
  },
  {
   "cell_type": "markdown",
   "id": "5fce300f-6e87-4ee5-b221-b2d8c9752b73",
   "metadata": {},
   "source": [
    "## Convert and merge OpenNGC"
   ]
  },
  {
   "cell_type": "code",
   "execution_count": 3,
   "id": "0b7474f5-2401-4981-aca8-eced5ea3e0bf",
   "metadata": {},
   "outputs": [
    {
     "data": {
      "text/plain": [
       "(13968, 32)"
      ]
     },
     "execution_count": 3,
     "metadata": {},
     "output_type": "execute_result"
    }
   ],
   "source": [
    "ngc_df = pd.read_csv(orginal_openngc_path, sep=\";\", dtype=str)\n",
    "\n",
    "ngc_df.shape"
   ]
  },
  {
   "cell_type": "code",
   "execution_count": 4,
   "id": "92fedf82-06cd-41be-aebc-d31eb5aac274",
   "metadata": {},
   "outputs": [
    {
     "data": {
      "text/plain": [
       "(24, 32)"
      ]
     },
     "execution_count": 4,
     "metadata": {},
     "output_type": "execute_result"
    }
   ],
   "source": [
    "add_df = pd.read_csv(orginal_openngc_addendum_path, sep=\";\", dtype=str)\n",
    "add_df.shape"
   ]
  },
  {
   "cell_type": "code",
   "execution_count": 5,
   "id": "4d333aab-f7df-4dde-9099-bf2447937fc1",
   "metadata": {},
   "outputs": [
    {
     "data": {
      "text/plain": [
       "array([ True,  True,  True,  True,  True,  True,  True,  True,  True,\n",
       "        True,  True,  True,  True,  True,  True,  True,  True,  True,\n",
       "        True,  True,  True,  True,  True,  True,  True,  True,  True,\n",
       "        True,  True,  True,  True,  True])"
      ]
     },
     "execution_count": 5,
     "metadata": {},
     "output_type": "execute_result"
    }
   ],
   "source": [
    "add_df.columns == ngc_df.columns"
   ]
  },
  {
   "cell_type": "code",
   "execution_count": 6,
   "id": "e0691664-52d1-43f0-8da7-1db99b2827a1",
   "metadata": {},
   "outputs": [],
   "source": [
    "df = pd.concat([ngc_df, add_df])\n",
    "df.to_csv(openngc_path, index=False)\n"
   ]
  },
  {
   "cell_type": "code",
   "execution_count": null,
   "id": "380e3b09-9e85-44c0-a96c-a2c61a69dce5",
   "metadata": {},
   "outputs": [],
   "source": []
  },
  {
   "cell_type": "code",
   "execution_count": null,
   "id": "51862aa6-7895-49d8-b044-d49c69110b11",
   "metadata": {},
   "outputs": [],
   "source": []
  }
 ],
 "metadata": {
  "kernelspec": {
   "display_name": "Python 3 (ipykernel)",
   "language": "python",
   "name": "python3"
  },
  "language_info": {
   "codemirror_mode": {
    "name": "ipython",
    "version": 3
   },
   "file_extension": ".py",
   "mimetype": "text/x-python",
   "name": "python",
   "nbconvert_exporter": "python",
   "pygments_lexer": "ipython3",
   "version": "3.9.10"
  }
 },
 "nbformat": 4,
 "nbformat_minor": 5
}
