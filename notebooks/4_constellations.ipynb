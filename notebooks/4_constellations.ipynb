{
 "cells": [
  {
   "cell_type": "code",
   "execution_count": 1,
   "id": "a25b72dc-3c3e-4f75-bbe2-4cfd58bd561c",
   "metadata": {},
   "outputs": [],
   "source": [
    "import sys\n",
    "import os \n",
    "from pathlib import Path\n",
    "import pandas as pd\n",
    "from bs4 import BeautifulSoup \n",
    "import requests\n",
    "import lxml\n",
    "import json\n",
    "\n",
    "project_path = Path(os.path.dirname(os.path.realpath(\"__file__\"))).parent\n",
    "\n",
    "from scripts.utils import log_df"
   ]
  },
  {
   "cell_type": "code",
   "execution_count": 2,
   "id": "7b911e7d-4f52-459b-9e56-e5856b46af34",
   "metadata": {},
   "outputs": [],
   "source": [
    "constellation_path = project_path/'raw_data'/'constellations.csv'\n",
    "constellation_js_path = project_path/'data'/'constellations.js'"
   ]
  },
  {
   "cell_type": "markdown",
   "id": "064a8906-0f9a-4e8b-9794-a8db5bd4843b",
   "metadata": {},
   "source": [
    "## get constellation data"
   ]
  },
  {
   "cell_type": "code",
   "execution_count": 3,
   "id": "86631c65-931a-455b-a77f-e86ac05deb7c",
   "metadata": {},
   "outputs": [
    {
     "name": "stdout",
     "output_type": "stream",
     "text": [
      "200\n"
     ]
    }
   ],
   "source": [
    "wikiurl=\"https://en.wikipedia.org/wiki/IAU_designated_constellations\"\n",
    "# table_class=\"wikitable sortable jquery-tablesorter\"\n",
    "response=requests.get(wikiurl)\n",
    "print(response.status_code)"
   ]
  },
  {
   "cell_type": "code",
   "execution_count": 4,
   "id": "92d4cd7f-940d-4e4a-8164-99de1a03f4e7",
   "metadata": {},
   "outputs": [],
   "source": [
    "soup = BeautifulSoup(response.text, 'html.parser')\n",
    "table=soup.find('table',{'class':\"wikitable\"})"
   ]
  },
  {
   "cell_type": "code",
   "execution_count": 5,
   "id": "83aeb9a5-89d8-4b02-bc5d-adf1b07210dc",
   "metadata": {},
   "outputs": [
    {
     "name": "stdout",
     "output_type": "stream",
     "text": [
      "(88, 7)\n"
     ]
    },
    {
     "data": {
      "text/html": [
       "<div>\n",
       "<style scoped>\n",
       "    .dataframe tbody tr th:only-of-type {\n",
       "        vertical-align: middle;\n",
       "    }\n",
       "\n",
       "    .dataframe tbody tr th {\n",
       "        vertical-align: top;\n",
       "    }\n",
       "\n",
       "    .dataframe thead th {\n",
       "        text-align: right;\n",
       "    }\n",
       "</style>\n",
       "<table border=\"1\" class=\"dataframe\">\n",
       "  <thead>\n",
       "    <tr style=\"text-align: right;\">\n",
       "      <th></th>\n",
       "      <th>Constellation</th>\n",
       "      <th>Abbreviations IAU</th>\n",
       "      <th>Abbreviations NASA</th>\n",
       "      <th>Genitive</th>\n",
       "      <th>Origin</th>\n",
       "      <th>Meaning</th>\n",
       "      <th>Brightest star</th>\n",
       "    </tr>\n",
       "  </thead>\n",
       "  <tbody>\n",
       "    <tr>\n",
       "      <th>0</th>\n",
       "      <td>Andromeda /ænˈdrɒmɪdə/[7]</td>\n",
       "      <td>And</td>\n",
       "      <td>Andr</td>\n",
       "      <td>Andromedae /ænˈdrɒmɪdiː/</td>\n",
       "      <td>ancient (Ptolemy)</td>\n",
       "      <td>Andromeda (The chained maiden or princess)</td>\n",
       "      <td>Alpheratz</td>\n",
       "    </tr>\n",
       "    <tr>\n",
       "      <th>1</th>\n",
       "      <td>Antlia /ˈæntliə/[7]</td>\n",
       "      <td>Ant</td>\n",
       "      <td>Antl</td>\n",
       "      <td>Antliae /ˈæntliiː/</td>\n",
       "      <td>1763, Lacaille</td>\n",
       "      <td>air pump</td>\n",
       "      <td>α Antliae</td>\n",
       "    </tr>\n",
       "    <tr>\n",
       "      <th>2</th>\n",
       "      <td>Apus /ˈeɪpəs/[8]</td>\n",
       "      <td>Aps</td>\n",
       "      <td>Apus</td>\n",
       "      <td>Apodis /ˈæpoʊdɪs/[8]</td>\n",
       "      <td>1603, Uranometria, created by Keyser and de Ho...</td>\n",
       "      <td>Bird-of-paradise/Exotic Bird/Extraordinary Bird</td>\n",
       "      <td>α Apodis</td>\n",
       "    </tr>\n",
       "    <tr>\n",
       "      <th>3</th>\n",
       "      <td>Aquarius /əˈkwɛəriəs/[7]</td>\n",
       "      <td>Aqr</td>\n",
       "      <td>Aqar</td>\n",
       "      <td>Aquarii /əˈkwɛəriaɪ/</td>\n",
       "      <td>ancient (Ptolemy)</td>\n",
       "      <td>water-bearer</td>\n",
       "      <td>Sadalsuud</td>\n",
       "    </tr>\n",
       "    <tr>\n",
       "      <th>4</th>\n",
       "      <td>Aquila /ˈækwɪlə/[7]</td>\n",
       "      <td>Aql</td>\n",
       "      <td>Aqil</td>\n",
       "      <td>Aquilae /ˈækwɪliː/</td>\n",
       "      <td>ancient (Ptolemy)</td>\n",
       "      <td>eagle</td>\n",
       "      <td>Altair</td>\n",
       "    </tr>\n",
       "  </tbody>\n",
       "</table>\n",
       "</div>"
      ],
      "text/plain": [
       "               Constellation Abbreviations IAU Abbreviations NASA  \\\n",
       "0  Andromeda /ænˈdrɒmɪdə/[7]               And               Andr   \n",
       "1        Antlia /ˈæntliə/[7]               Ant               Antl   \n",
       "2           Apus /ˈeɪpəs/[8]               Aps               Apus   \n",
       "3   Aquarius /əˈkwɛəriəs/[7]               Aqr               Aqar   \n",
       "4        Aquila /ˈækwɪlə/[7]               Aql               Aqil   \n",
       "\n",
       "                   Genitive  \\\n",
       "0  Andromedae /ænˈdrɒmɪdiː/   \n",
       "1        Antliae /ˈæntliiː/   \n",
       "2      Apodis /ˈæpoʊdɪs/[8]   \n",
       "3      Aquarii /əˈkwɛəriaɪ/   \n",
       "4        Aquilae /ˈækwɪliː/   \n",
       "\n",
       "                                              Origin  \\\n",
       "0                                  ancient (Ptolemy)   \n",
       "1                                     1763, Lacaille   \n",
       "2  1603, Uranometria, created by Keyser and de Ho...   \n",
       "3                                  ancient (Ptolemy)   \n",
       "4                                  ancient (Ptolemy)   \n",
       "\n",
       "                                           Meaning Brightest star  \n",
       "0       Andromeda (The chained maiden or princess)      Alpheratz  \n",
       "1                                         air pump      α Antliae  \n",
       "2  Bird-of-paradise/Exotic Bird/Extraordinary Bird       α Apodis  \n",
       "3                                     water-bearer      Sadalsuud  \n",
       "4                                            eagle         Altair  "
      ]
     },
     "execution_count": 5,
     "metadata": {},
     "output_type": "execute_result"
    }
   ],
   "source": [
    "df = pd.read_html(str(table))\n",
    "df = pd.DataFrame(df[0])\n",
    "df.columns = ['Constellation', 'Abbreviations IAU',\n",
    "              'Abbreviations NASA', 'Genitive',\n",
    "              'Origin', 'Meaning', 'Brightest star']\n",
    "log_df(df)"
   ]
  },
  {
   "cell_type": "code",
   "execution_count": 6,
   "id": "bad9dbd6-958e-4fe3-9893-5e3b0a4ada6d",
   "metadata": {},
   "outputs": [
    {
     "name": "stdout",
     "output_type": "stream",
     "text": [
      "(88, 8)\n"
     ]
    },
    {
     "data": {
      "text/html": [
       "<div>\n",
       "<style scoped>\n",
       "    .dataframe tbody tr th:only-of-type {\n",
       "        vertical-align: middle;\n",
       "    }\n",
       "\n",
       "    .dataframe tbody tr th {\n",
       "        vertical-align: top;\n",
       "    }\n",
       "\n",
       "    .dataframe thead th {\n",
       "        text-align: right;\n",
       "    }\n",
       "</style>\n",
       "<table border=\"1\" class=\"dataframe\">\n",
       "  <thead>\n",
       "    <tr style=\"text-align: right;\">\n",
       "      <th></th>\n",
       "      <th>Constellation</th>\n",
       "      <th>Abbreviations IAU</th>\n",
       "      <th>Abbreviations NASA</th>\n",
       "      <th>Genitive</th>\n",
       "      <th>Origin</th>\n",
       "      <th>Meaning</th>\n",
       "      <th>Brightest star</th>\n",
       "      <th>name</th>\n",
       "    </tr>\n",
       "  </thead>\n",
       "  <tbody>\n",
       "    <tr>\n",
       "      <th>0</th>\n",
       "      <td>Andromeda /ænˈdrɒmɪdə/[7]</td>\n",
       "      <td>And</td>\n",
       "      <td>Andr</td>\n",
       "      <td>Andromedae /ænˈdrɒmɪdiː/</td>\n",
       "      <td>ancient (Ptolemy)</td>\n",
       "      <td>Andromeda (The chained maiden or princess)</td>\n",
       "      <td>Alpheratz</td>\n",
       "      <td>Andromeda</td>\n",
       "    </tr>\n",
       "    <tr>\n",
       "      <th>1</th>\n",
       "      <td>Antlia /ˈæntliə/[7]</td>\n",
       "      <td>Ant</td>\n",
       "      <td>Antl</td>\n",
       "      <td>Antliae /ˈæntliiː/</td>\n",
       "      <td>1763, Lacaille</td>\n",
       "      <td>air pump</td>\n",
       "      <td>α Antliae</td>\n",
       "      <td>Antlia</td>\n",
       "    </tr>\n",
       "    <tr>\n",
       "      <th>2</th>\n",
       "      <td>Apus /ˈeɪpəs/[8]</td>\n",
       "      <td>Aps</td>\n",
       "      <td>Apus</td>\n",
       "      <td>Apodis /ˈæpoʊdɪs/[8]</td>\n",
       "      <td>1603, Uranometria, created by Keyser and de Ho...</td>\n",
       "      <td>Bird-of-paradise/Exotic Bird/Extraordinary Bird</td>\n",
       "      <td>α Apodis</td>\n",
       "      <td>Apus</td>\n",
       "    </tr>\n",
       "    <tr>\n",
       "      <th>3</th>\n",
       "      <td>Aquarius /əˈkwɛəriəs/[7]</td>\n",
       "      <td>Aqr</td>\n",
       "      <td>Aqar</td>\n",
       "      <td>Aquarii /əˈkwɛəriaɪ/</td>\n",
       "      <td>ancient (Ptolemy)</td>\n",
       "      <td>water-bearer</td>\n",
       "      <td>Sadalsuud</td>\n",
       "      <td>Aquarius</td>\n",
       "    </tr>\n",
       "    <tr>\n",
       "      <th>4</th>\n",
       "      <td>Aquila /ˈækwɪlə/[7]</td>\n",
       "      <td>Aql</td>\n",
       "      <td>Aqil</td>\n",
       "      <td>Aquilae /ˈækwɪliː/</td>\n",
       "      <td>ancient (Ptolemy)</td>\n",
       "      <td>eagle</td>\n",
       "      <td>Altair</td>\n",
       "      <td>Aquila</td>\n",
       "    </tr>\n",
       "  </tbody>\n",
       "</table>\n",
       "</div>"
      ],
      "text/plain": [
       "               Constellation Abbreviations IAU Abbreviations NASA  \\\n",
       "0  Andromeda /ænˈdrɒmɪdə/[7]               And               Andr   \n",
       "1        Antlia /ˈæntliə/[7]               Ant               Antl   \n",
       "2           Apus /ˈeɪpəs/[8]               Aps               Apus   \n",
       "3   Aquarius /əˈkwɛəriəs/[7]               Aqr               Aqar   \n",
       "4        Aquila /ˈækwɪlə/[7]               Aql               Aqil   \n",
       "\n",
       "                   Genitive  \\\n",
       "0  Andromedae /ænˈdrɒmɪdiː/   \n",
       "1        Antliae /ˈæntliiː/   \n",
       "2      Apodis /ˈæpoʊdɪs/[8]   \n",
       "3      Aquarii /əˈkwɛəriaɪ/   \n",
       "4        Aquilae /ˈækwɪliː/   \n",
       "\n",
       "                                              Origin  \\\n",
       "0                                  ancient (Ptolemy)   \n",
       "1                                     1763, Lacaille   \n",
       "2  1603, Uranometria, created by Keyser and de Ho...   \n",
       "3                                  ancient (Ptolemy)   \n",
       "4                                  ancient (Ptolemy)   \n",
       "\n",
       "                                           Meaning Brightest star       name  \n",
       "0       Andromeda (The chained maiden or princess)      Alpheratz  Andromeda  \n",
       "1                                         air pump      α Antliae     Antlia  \n",
       "2  Bird-of-paradise/Exotic Bird/Extraordinary Bird       α Apodis       Apus  \n",
       "3                                     water-bearer      Sadalsuud   Aquarius  \n",
       "4                                            eagle         Altair     Aquila  "
      ]
     },
     "execution_count": 6,
     "metadata": {},
     "output_type": "execute_result"
    }
   ],
   "source": [
    "df[['name', 'b']] = df['Constellation'].str.split(' /', expand=True)\n",
    "del df['b']\n",
    "log_df(df)"
   ]
  },
  {
   "cell_type": "code",
   "execution_count": 7,
   "id": "658bea3d-e1ee-4ebb-9cb4-6773ea279fd9",
   "metadata": {},
   "outputs": [],
   "source": [
    " df.to_csv(constellation_path, index=False)"
   ]
  },
  {
   "cell_type": "code",
   "execution_count": 8,
   "id": "59015159-ac44-4f6f-b127-f4053ff23e4b",
   "metadata": {},
   "outputs": [],
   "source": [
    "object_dict = {}\n",
    "for index, row in df.iterrows():\n",
    "    object_dict[row['Abbreviations IAU']] = row['name']\n",
    "\n",
    "json_object = json.dumps(object_dict)\n",
    " \n",
    "with open(constellation_js_path, \"w\") as outfile:\n",
    "    outfile.write(json_object)"
   ]
  },
  {
   "cell_type": "code",
   "execution_count": null,
   "id": "380e3b09-9e85-44c0-a96c-a2c61a69dce5",
   "metadata": {},
   "outputs": [],
   "source": []
  }
 ],
 "metadata": {
  "kernelspec": {
   "display_name": "Python 3 (ipykernel)",
   "language": "python",
   "name": "python3"
  },
  "language_info": {
   "codemirror_mode": {
    "name": "ipython",
    "version": 3
   },
   "file_extension": ".py",
   "mimetype": "text/x-python",
   "name": "python",
   "nbconvert_exporter": "python",
   "pygments_lexer": "ipython3",
   "version": "3.9.10"
  }
 },
 "nbformat": 4,
 "nbformat_minor": 5
}
