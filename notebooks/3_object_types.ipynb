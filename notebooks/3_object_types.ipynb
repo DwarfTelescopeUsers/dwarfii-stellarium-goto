{
 "cells": [
  {
   "cell_type": "code",
   "execution_count": 1,
   "id": "bcc5c790-6d42-4e3d-a953-003239664413",
   "metadata": {},
   "outputs": [],
   "source": [
    "import sys\n",
    "import os \n",
    "from pathlib import Path\n",
    "import pandas as pd\n",
    "import json\n",
    "\n",
    "project_path = Path(os.path.dirname(os.path.realpath(\"__file__\"))).parent\n",
    "\n",
    "from scripts.utils import log_df"
   ]
  },
  {
   "cell_type": "code",
   "execution_count": 2,
   "id": "16e5ee71-6612-40b7-af86-8e17fc19d2a2",
   "metadata": {},
   "outputs": [],
   "source": [
    "openngc_types_path = project_path / 'raw_data' / 'OpenNGC_types.csv' \n",
    "\n",
    "stellarium_path = project_path / 'data' / 'draft'/'observingList_DwarfII.json' \n",
    "stellarium_types_path = project_path / 'raw_data' / 'stellarium_types.csv' \n",
    "\n",
    "# type_path = project_path / 'data' / 'objectTypes2.js' \n"
   ]
  },
  {
   "cell_type": "markdown",
   "id": "24a05dbb-1787-4f4d-9328-b55f422526ed",
   "metadata": {},
   "source": [
    "## create stellarium types csv"
   ]
  },
  {
   "cell_type": "code",
   "execution_count": 3,
   "id": "c026c797-b830-458f-ada7-4ac17f462e30",
   "metadata": {},
   "outputs": [],
   "source": [
    "with open(stellarium_path, 'r') as f:\n",
    "    data = json.load(f)"
   ]
  },
  {
   "cell_type": "code",
   "execution_count": 4,
   "id": "4583a24e-e41f-4328-ab46-ef2ffbb6883f",
   "metadata": {},
   "outputs": [],
   "source": [
    "objects = data['observingLists']['observingLists']['{5e727f81-e0a8-43f0-9258-3848aa2d9762}']['objects']\n",
    "\n",
    "records = []\n",
    "tmp = set()\n",
    "for object in objects:\n",
    "    if object['objtype'] not in tmp:\n",
    "        records.append({'objtype': object['objtype'], 'type': object['type'], 'category': ''})\n",
    "        tmp.add(object['objtype'])"
   ]
  },
  {
   "cell_type": "code",
   "execution_count": 5,
   "id": "5a0f5744-b5e3-413d-bd01-3cc2ba504ba0",
   "metadata": {},
   "outputs": [
    {
     "name": "stdout",
     "output_type": "stream",
     "text": [
      "(13, 3)\n"
     ]
    },
    {
     "data": {
      "text/html": [
       "<div>\n",
       "<style scoped>\n",
       "    .dataframe tbody tr th:only-of-type {\n",
       "        vertical-align: middle;\n",
       "    }\n",
       "\n",
       "    .dataframe tbody tr th {\n",
       "        vertical-align: top;\n",
       "    }\n",
       "\n",
       "    .dataframe thead th {\n",
       "        text-align: right;\n",
       "    }\n",
       "</style>\n",
       "<table border=\"1\" class=\"dataframe\">\n",
       "  <thead>\n",
       "    <tr style=\"text-align: right;\">\n",
       "      <th></th>\n",
       "      <th>objtype</th>\n",
       "      <th>type</th>\n",
       "      <th>category</th>\n",
       "    </tr>\n",
       "  </thead>\n",
       "  <tbody>\n",
       "    <tr>\n",
       "      <th>0</th>\n",
       "      <td>globular star cluster</td>\n",
       "      <td>Nebula</td>\n",
       "      <td></td>\n",
       "    </tr>\n",
       "    <tr>\n",
       "      <th>1</th>\n",
       "      <td>planet</td>\n",
       "      <td>Planet</td>\n",
       "      <td></td>\n",
       "    </tr>\n",
       "    <tr>\n",
       "      <th>2</th>\n",
       "      <td>galaxy</td>\n",
       "      <td>Nebula</td>\n",
       "      <td></td>\n",
       "    </tr>\n",
       "    <tr>\n",
       "      <th>3</th>\n",
       "      <td>HII region</td>\n",
       "      <td>Nebula</td>\n",
       "      <td></td>\n",
       "    </tr>\n",
       "    <tr>\n",
       "      <th>4</th>\n",
       "      <td>open star cluster</td>\n",
       "      <td>Nebula</td>\n",
       "      <td></td>\n",
       "    </tr>\n",
       "  </tbody>\n",
       "</table>\n",
       "</div>"
      ],
      "text/plain": [
       "                 objtype    type category\n",
       "0  globular star cluster  Nebula         \n",
       "1                 planet  Planet         \n",
       "2                 galaxy  Nebula         \n",
       "3             HII region  Nebula         \n",
       "4      open star cluster  Nebula         "
      ]
     },
     "execution_count": 5,
     "metadata": {},
     "output_type": "execute_result"
    }
   ],
   "source": [
    "        \n",
    "df = pd.DataFrame(records)\n",
    "log_df(df)"
   ]
  },
  {
   "cell_type": "code",
   "execution_count": 54,
   "id": "a6691f38-708e-424f-bea0-0276028dfb4f",
   "metadata": {},
   "outputs": [],
   "source": [
    "df.to_csv(stellarium_types_path, index=False)"
   ]
  },
  {
   "cell_type": "code",
   "execution_count": null,
   "id": "3079a2b6-c853-4fbf-9db2-09cfe553f2e8",
   "metadata": {},
   "outputs": [],
   "source": []
  },
  {
   "cell_type": "markdown",
   "id": "4a544df1-4af6-4d5f-a807-27b06a34fccc",
   "metadata": {},
   "source": [
    "## create type / type category dictionary"
   ]
  },
  {
   "cell_type": "code",
   "execution_count": 6,
   "id": "c70f39f2-716d-4572-9527-1bf5e0f4693c",
   "metadata": {},
   "outputs": [],
   "source": [
    "grouped_types = {}\n",
    "types = {}"
   ]
  },
  {
   "cell_type": "code",
   "execution_count": 7,
   "id": "586991f9-1b43-40f4-bfde-d6045a1d1916",
   "metadata": {},
   "outputs": [
    {
     "name": "stdout",
     "output_type": "stream",
     "text": [
      "(13, 3)\n"
     ]
    },
    {
     "data": {
      "text/html": [
       "<div>\n",
       "<style scoped>\n",
       "    .dataframe tbody tr th:only-of-type {\n",
       "        vertical-align: middle;\n",
       "    }\n",
       "\n",
       "    .dataframe tbody tr th {\n",
       "        vertical-align: top;\n",
       "    }\n",
       "\n",
       "    .dataframe thead th {\n",
       "        text-align: right;\n",
       "    }\n",
       "</style>\n",
       "<table border=\"1\" class=\"dataframe\">\n",
       "  <thead>\n",
       "    <tr style=\"text-align: right;\">\n",
       "      <th></th>\n",
       "      <th>objtype</th>\n",
       "      <th>type</th>\n",
       "      <th>category</th>\n",
       "    </tr>\n",
       "  </thead>\n",
       "  <tbody>\n",
       "    <tr>\n",
       "      <th>0</th>\n",
       "      <td>globular star cluster</td>\n",
       "      <td>Nebula</td>\n",
       "      <td>clusters</td>\n",
       "    </tr>\n",
       "    <tr>\n",
       "      <th>1</th>\n",
       "      <td>planet</td>\n",
       "      <td>Planet</td>\n",
       "      <td>solar_system</td>\n",
       "    </tr>\n",
       "    <tr>\n",
       "      <th>2</th>\n",
       "      <td>galaxy</td>\n",
       "      <td>Nebula</td>\n",
       "      <td>galaxies</td>\n",
       "    </tr>\n",
       "    <tr>\n",
       "      <th>3</th>\n",
       "      <td>HII region</td>\n",
       "      <td>Nebula</td>\n",
       "      <td>nebulae</td>\n",
       "    </tr>\n",
       "    <tr>\n",
       "      <th>4</th>\n",
       "      <td>open star cluster</td>\n",
       "      <td>Nebula</td>\n",
       "      <td>clusters</td>\n",
       "    </tr>\n",
       "  </tbody>\n",
       "</table>\n",
       "</div>"
      ],
      "text/plain": [
       "                 objtype    type      category\n",
       "0  globular star cluster  Nebula      clusters\n",
       "1                 planet  Planet  solar_system\n",
       "2                 galaxy  Nebula      galaxies\n",
       "3             HII region  Nebula       nebulae\n",
       "4      open star cluster  Nebula      clusters"
      ]
     },
     "execution_count": 7,
     "metadata": {},
     "output_type": "execute_result"
    }
   ],
   "source": [
    "stellarium_df = pd.read_csv(stellarium_types_path)\n",
    "\n",
    "log_df(stellarium_df)"
   ]
  },
  {
   "cell_type": "code",
   "execution_count": 11,
   "id": "73b332ec-6180-40d7-a395-9391c9857dde",
   "metadata": {},
   "outputs": [
    {
     "name": "stdout",
     "output_type": "stream",
     "text": [
      "(21, 3)\n"
     ]
    },
    {
     "data": {
      "text/html": [
       "<div>\n",
       "<style scoped>\n",
       "    .dataframe tbody tr th:only-of-type {\n",
       "        vertical-align: middle;\n",
       "    }\n",
       "\n",
       "    .dataframe tbody tr th {\n",
       "        vertical-align: top;\n",
       "    }\n",
       "\n",
       "    .dataframe thead th {\n",
       "        text-align: right;\n",
       "    }\n",
       "</style>\n",
       "<table border=\"1\" class=\"dataframe\">\n",
       "  <thead>\n",
       "    <tr style=\"text-align: right;\">\n",
       "      <th></th>\n",
       "      <th>code</th>\n",
       "      <th>name</th>\n",
       "      <th>category</th>\n",
       "    </tr>\n",
       "  </thead>\n",
       "  <tbody>\n",
       "    <tr>\n",
       "      <th>0</th>\n",
       "      <td>*</td>\n",
       "      <td>Star</td>\n",
       "      <td>stars</td>\n",
       "    </tr>\n",
       "    <tr>\n",
       "      <th>1</th>\n",
       "      <td>**</td>\n",
       "      <td>Double star</td>\n",
       "      <td>stars</td>\n",
       "    </tr>\n",
       "    <tr>\n",
       "      <th>2</th>\n",
       "      <td>*Ass</td>\n",
       "      <td>Association of stars</td>\n",
       "      <td>stars</td>\n",
       "    </tr>\n",
       "    <tr>\n",
       "      <th>3</th>\n",
       "      <td>OCl</td>\n",
       "      <td>Open Cluster</td>\n",
       "      <td>clusters</td>\n",
       "    </tr>\n",
       "    <tr>\n",
       "      <th>4</th>\n",
       "      <td>GCl</td>\n",
       "      <td>Globular Cluster</td>\n",
       "      <td>clusters</td>\n",
       "    </tr>\n",
       "  </tbody>\n",
       "</table>\n",
       "</div>"
      ],
      "text/plain": [
       "   code                  name  category\n",
       "0     *                  Star     stars\n",
       "1    **           Double star     stars\n",
       "2  *Ass  Association of stars     stars\n",
       "3   OCl          Open Cluster  clusters\n",
       "4   GCl      Globular Cluster  clusters"
      ]
     },
     "execution_count": 11,
     "metadata": {},
     "output_type": "execute_result"
    }
   ],
   "source": [
    "openngc_df = pd.read_csv(openngc_types_path)\n",
    "\n",
    "log_df(openngc_df)"
   ]
  },
  {
   "cell_type": "code",
   "execution_count": 12,
   "id": "b9ecfa91-8031-47e0-a90c-5013f2b320dc",
   "metadata": {},
   "outputs": [
    {
     "data": {
      "text/plain": [
       "{'Association of stars': 'stars',\n",
       " 'Dark Nebula': 'nebulae',\n",
       " 'Double star': 'stars',\n",
       " 'Duplicated object (see NGC or IC columns to find the master object)': 'duplicate',\n",
       " 'Emission Nebula': 'nebulae',\n",
       " 'Galaxy': 'galaxies',\n",
       " 'Galaxy Pair': 'galaxies',\n",
       " 'Galaxy Triplet': 'galaxies',\n",
       " 'Globular Cluster': 'clusters',\n",
       " 'Group of galaxies': 'galaxies',\n",
       " 'HII Ionized region': 'nebulae',\n",
       " 'HII region': 'nebulae',\n",
       " 'Nebula': 'nebulae',\n",
       " 'Nonexistent object': 'nonexistent',\n",
       " 'Nova star': 'stars',\n",
       " 'Open Cluster': 'clusters',\n",
       " 'Other classification (see object notes)': 'other',\n",
       " 'Planetary Nebula': 'nebulae',\n",
       " 'Reflection Nebula': 'nebulae',\n",
       " 'Star': 'stars',\n",
       " 'Star cluster + Nebula': 'nebulae',\n",
       " 'Supernova remnant': 'nebulae',\n",
       " 'cluster associated with nebulosity': 'nebulae',\n",
       " 'double star': 'stars',\n",
       " 'double star, pulsating variable star': 'stars',\n",
       " 'emission nebula': 'nebulae',\n",
       " 'galaxy': 'galaxies',\n",
       " 'globular star cluster': 'clusters',\n",
       " 'moon': 'solar_system',\n",
       " 'open star cluster': 'clusters',\n",
       " 'planet': 'solar_system',\n",
       " 'planetary nebula': 'nebulae',\n",
       " 'star': 'stars',\n",
       " 'supernova remnant': 'nebulae'}"
      ]
     },
     "execution_count": 12,
     "metadata": {},
     "output_type": "execute_result"
    }
   ],
   "source": [
    "for index, rows in openngc_df.iterrows():\n",
    "    types[rows['name']] = rows['category']\n",
    "\n",
    "for index, rows in stellarium_df.iterrows():\n",
    "    types[rows['objtype']] = rows['category']\n",
    "\n",
    "dict(sorted(types.items()))"
   ]
  },
  {
   "cell_type": "code",
   "execution_count": 13,
   "id": "e15fd6aa-d1c9-4a1d-8455-b25b171d7b93",
   "metadata": {},
   "outputs": [
    {
     "data": {
      "text/plain": [
       "'Star\" | \"Double star\" | \"Association of stars\" | \"Open Cluster\" | \"Globular Cluster\" | \"Star cluster + Nebula\" | \"Galaxy\" | \"Galaxy Pair\" | \"Galaxy Triplet\" | \"Group of galaxies\" | \"Planetary Nebula\" | \"HII Ionized region\" | \"Dark Nebula\" | \"Emission Nebula\" | \"Nebula\" | \"Reflection Nebula\" | \"Supernova remnant\" | \"Nova star\" | \"Nonexistent object\" | \"Duplicated object (see NGC or IC columns to find the master object)\" | \"Other classification (see object notes)\" | \"globular star cluster\" | \"planet\" | \"galaxy\" | \"HII region\" | \"open star cluster\" | \"star\" | \"supernova remnant\" | \"cluster associated with nebulosity\" | \"moon\" | \"planetary nebula\" | \"emission nebula\" | \"double star, pulsating variable star\" | \"double star'"
      ]
     },
     "execution_count": 13,
     "metadata": {},
     "output_type": "execute_result"
    }
   ],
   "source": [
    "'\" | \"'.join(list(types.keys()))"
   ]
  },
  {
   "cell_type": "code",
   "execution_count": 14,
   "id": "e506ba7f-a97a-4129-acd1-6b78949f5492",
   "metadata": {},
   "outputs": [
    {
     "data": {
      "text/plain": [
       "{'stars': ['Star',\n",
       "  'Double star',\n",
       "  'Association of stars',\n",
       "  'Nova star',\n",
       "  'star',\n",
       "  'double star, pulsating variable star',\n",
       "  'double star'],\n",
       " 'clusters': ['Open Cluster',\n",
       "  'Globular Cluster',\n",
       "  'globular star cluster',\n",
       "  'open star cluster'],\n",
       " 'nebulae': ['Star cluster + Nebula',\n",
       "  'Planetary Nebula',\n",
       "  'HII Ionized region',\n",
       "  'Dark Nebula',\n",
       "  'Emission Nebula',\n",
       "  'Nebula',\n",
       "  'Reflection Nebula',\n",
       "  'Supernova remnant',\n",
       "  'HII region',\n",
       "  'supernova remnant',\n",
       "  'cluster associated with nebulosity',\n",
       "  'planetary nebula',\n",
       "  'emission nebula'],\n",
       " 'galaxies': ['Galaxy',\n",
       "  'Galaxy Pair',\n",
       "  'Galaxy Triplet',\n",
       "  'Group of galaxies',\n",
       "  'galaxy'],\n",
       " 'nonexistent': ['Nonexistent object'],\n",
       " 'duplicate': ['Duplicated object (see NGC or IC columns to find the master object)'],\n",
       " 'other': ['Other classification (see object notes)'],\n",
       " 'solar_system': ['planet', 'moon']}"
      ]
     },
     "execution_count": 14,
     "metadata": {},
     "output_type": "execute_result"
    }
   ],
   "source": [
    "for index, rows in openngc_df.iterrows():\n",
    "    category = rows['category']\n",
    "    name = rows['name']\n",
    "    if category not in grouped_types:\n",
    "        grouped_types[category] = []\n",
    "\n",
    "    grouped_types[category].append(name)\n",
    "\n",
    "for index, rows in stellarium_df.iterrows():\n",
    "    category = rows['category']\n",
    "    name = rows['objtype']\n",
    "    if category not in grouped_types:\n",
    "        grouped_types[category] = []\n",
    "\n",
    "    grouped_types[category].append(name)\n",
    "    \n",
    "\n",
    "grouped_types"
   ]
  },
  {
   "cell_type": "code",
   "execution_count": null,
   "id": "832c5c11-ca3a-41ea-b207-ef538ec985dd",
   "metadata": {},
   "outputs": [],
   "source": []
  }
 ],
 "metadata": {
  "kernelspec": {
   "display_name": "Python 3 (ipykernel)",
   "language": "python",
   "name": "python3"
  },
  "language_info": {
   "codemirror_mode": {
    "name": "ipython",
    "version": 3
   },
   "file_extension": ".py",
   "mimetype": "text/x-python",
   "name": "python",
   "nbconvert_exporter": "python",
   "pygments_lexer": "ipython3",
   "version": "3.9.10"
  }
 },
 "nbformat": 4,
 "nbformat_minor": 5
}
